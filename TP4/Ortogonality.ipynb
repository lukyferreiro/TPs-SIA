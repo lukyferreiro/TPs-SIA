{
 "cells": [
  {
   "cell_type": "code",
   "execution_count": null,
   "id": "6ea91393",
   "metadata": {},
   "outputs": [],
   "source": [
    "import json\n",
    "from src.utils import DataConfig\n",
    "from src.parser_files import get_letters\n",
    "import numpy as np\n",
    "from src.plots import *\n",
    "import pandas as pd\n",
    "import itertools\n",
    "\n",
    "letters = get_letters(\"data/letters.txt\")\n",
    "\n",
    "letters_dict = {}\n",
    "current_letter = 65\n",
    "for letter in letters:\n",
    "    letters_dict[chr(current_letter)] = letter\n",
    "    current_letter += 1\n",
    "\n",
    "all_groups = list(itertools.combinations(letters_dict.keys(), r=4))\n",
    "avg_dot_product = []\n",
    "max_dot_product = []\n",
    "\n",
    "for i in range(len(all_groups)):\n",
    "    group = np.array([v for k,v in letters_dict.items() if k in all_groups[i]])\n",
    "    orto_matrix = group.dot(group.T)\n",
    "    np.fill_diagonal(orto_matrix, 0)\n",
    "    #print(f'{all_groups[i]}\\n{orto_matrix}\\n-------------------------------------')\n",
    "    row, _ = orto_matrix.shape\n",
    "    avg_dot_product.append((np.abs(orto_matrix).sum() / (orto_matrix.size - row), all_groups[i]))\n",
    "    max_v = np.abs(orto_matrix).max()\n",
    "    max_dot_product.append(((max_v, np.count_nonzero(np.abs(orto_matrix) == max_v) / 2), all_groups[i]))\n",
    "\n",
    "df = pd.DataFrame(sorted(avg_dot_product), columns=[\"|<,>| medio\", \"grupo\"])\n",
    "df.head(15).style.format({'|<,>| medio': \"{:.2f}\"}).hide(axis='index')"
   ]
  },
  {
   "cell_type": "code",
   "execution_count": null,
   "id": "d7f52de0",
   "metadata": {},
   "outputs": [],
   "source": [
    "df.tail(15).style.format({'|<,>| medio': \"{:.2f}\"}).hide(axis='index')"
   ]
  },
  {
   "cell_type": "code",
   "execution_count": null,
   "id": "0985f17a",
   "metadata": {},
   "outputs": [],
   "source": [
    "df2 = pd.DataFrame(sorted(max_dot_product), columns=[\"|<,>| max\", \"grupo\"])\n",
    "df2.head(15).style.format({'|<,>| max': lambda x: 'max: {:,.0f} | count: {:,.0f}'.format(*x)}).hide(axis='index')"
   ]
  },
  {
   "cell_type": "code",
   "execution_count": null,
   "id": "62e17869",
   "metadata": {},
   "outputs": [],
   "source": [
    "df3 = df2.merge(df)\n",
    "df3 = df3[['|<,>| max', '|<,>| medio', 'grupo']]\n",
    "df3.head(15).style.format({'|<,>| max': lambda x: 'max: {:,.0f} | count: {:,.0f}'.format(*x), '|<,>| medio': \"{:.2f}\"}).hide(axis='index')"
   ]
  },
  {
   "cell_type": "code",
   "execution_count": null,
   "id": "69ef0b05",
   "metadata": {},
   "outputs": [],
   "source": [
    "df3.tail(25).style.format({'|<,>| max': lambda x: 'max: {:,.0f} | count: {:,.0f}'.format(*x), '|<,>| medio': \"{:.2f}\"}).hide(axis='index')"
   ]
  }
 ],
 "metadata": {
  "kernelspec": {
   "display_name": "Python 3 (ipykernel)",
   "language": "python",
   "name": "python3"
  },
  "language_info": {
   "codemirror_mode": {
    "name": "ipython",
    "version": 3
   },
   "file_extension": ".py",
   "mimetype": "text/x-python",
   "name": "python",
   "nbconvert_exporter": "python",
   "pygments_lexer": "ipython3",
   "version": "3.10.10"
  }
 },
 "nbformat": 4,
 "nbformat_minor": 5
}
