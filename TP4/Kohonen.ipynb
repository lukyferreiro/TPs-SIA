{
 "cells": [
  {
   "cell_type": "code",
   "execution_count": null,
   "id": "d7f52de0",
   "metadata": {},
   "outputs": [],
   "source": [
    "from src.utils import standarize_data\n",
    "from src.parser_files import get_csv_data\n",
    "from src.networks.Kohonen import Kohonen\n",
    "from src.plots import *\n",
    "\n",
    "K = 3\n",
    "RADIUS = 3\n",
    "LEARNING_RATE = 0.01\n",
    "EPOCHS = 10000\n",
    "LIKENESS = \"EUCLIDEAN\"\n",
    "\n",
    "data, countries, labels = get_csv_data(\"data/europe.csv\")\n",
    "data_standarized = standarize_data(data)\n",
    "\n",
    "kohonen = Kohonen(data_standarized, K, LEARNING_RATE, RADIUS, EPOCHS, LIKENESS)\n",
    "kohonen.train()\n",
    "\n",
    "plot_heatmap(data_standarized, countries, kohonen, K, LEARNING_RATE, RADIUS)\n",
    "plot_matrix_u(kohonen, K)\n",
    "for i, label in enumerate(labels): \n",
    "    plot_heatmap_single_variable(i, K, data_standarized, kohonen, f\"Valores de {label} para cada neurona\")\n"
   ]
  },
  {
   "cell_type": "code",
   "execution_count": null,
   "id": "b9f39a6e",
   "metadata": {},
   "outputs": [],
   "source": [
    "K = 3\n",
    "RADIUS = 3 \n",
    "LEARNING_RATE = 0.01\n",
    "EPOCHS = 100\n",
    "LIKENESS = \"EUCLIDEAN\"\n",
    "\n",
    "for _ in range(3):\n",
    "    kohonen = Kohonen(data_standarized, K, LEARNING_RATE, RADIUS, EPOCHS, LIKENESS)\n",
    "    kohonen.train()\n",
    "    plot_heatmap(data_standarized, countries, kohonen, K, LEARNING_RATE, RADIUS)"
   ]
  }
 ],
 "metadata": {
  "kernelspec": {
   "display_name": "Python 3 (ipykernel)",
   "language": "python",
   "name": "python3"
  },
  "language_info": {
   "codemirror_mode": {
    "name": "ipython",
    "version": 3
   },
   "file_extension": ".py",
   "mimetype": "text/x-python",
   "name": "python",
   "nbconvert_exporter": "python",
   "pygments_lexer": "ipython3",
   "version": "3.10.10"
  }
 },
 "nbformat": 4,
 "nbformat_minor": 5
}
