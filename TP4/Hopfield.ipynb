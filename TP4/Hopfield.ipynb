{
 "cells": [
  {
   "cell_type": "code",
   "execution_count": null,
   "id": "d7f52de0",
   "metadata": {},
   "outputs": [],
   "source": [
    "from src.parser_files import get_letters\n",
    "from src.plots import *\n",
    "\n",
    "letters = get_letters(\"data/letters.txt\")\n",
    "plot_letters(letters, \"Patrones\")"
   ]
  },
  {
   "cell_type": "code",
   "execution_count": null,
   "id": "1af8b8f6",
   "metadata": {},
   "outputs": [],
   "source": [
    "from src.utils import mutate, calculate_ortogonality\n",
    "from src.plots import *\n",
    "from src.networks.Hopfield import Hopfield\n",
    "import numpy as np\n",
    "\n",
    "EPOCHS = 100\n",
    "MUTATE_PROB = 0.1\n",
    "\n",
    "COUNT_LETTERS = 4\n",
    "letters_to_train = []\n",
    "idxs = np.random.choice(len(letters), size=COUNT_LETTERS, replace=False)\n",
    "for idx in idxs:\n",
    "    letters_to_train.append(letters[idx])\n",
    "letters_to_train = np.array(letters_to_train)\n",
    "orto_value = calculate_ortogonality(letters_to_train)\n",
    "plot_letters(letters_to_train, f\"Patrones almacenados con ortogonalidad {orto_value}\")\n",
    "\n",
    "hopfield = Hopfield(letters_to_train, EPOCHS)\n",
    "\n",
    "random_idx = np.random.randint(len(letters_to_train))\n",
    "letter_to_mutate = letters_to_train[random_idx]\n",
    "plot_letters(letter_to_mutate.reshape((1, len(letter_to_mutate))), \"Patron a mutar\")\n",
    "\n",
    "letter_mutated = mutate(letter_to_mutate, MUTATE_PROB)\n",
    "arr_patterns, arr_energy = hopfield.predict(letter_mutated)\n",
    "\n",
    "print(\"-------------------------\")\n",
    "print(arr_patterns)\n",
    "print(arr_energy)\n",
    "plot_letters(arr_patterns, \"Prediccion de Hopfield\")\n",
    "plot_energy(arr_energy)"
   ]
  }
 ],
 "metadata": {
  "kernelspec": {
   "display_name": "Python 3 (ipykernel)",
   "language": "python",
   "name": "python3"
  },
  "language_info": {
   "codemirror_mode": {
    "name": "ipython",
    "version": 3
   },
   "file_extension": ".py",
   "mimetype": "text/x-python",
   "name": "python",
   "nbconvert_exporter": "python",
   "pygments_lexer": "ipython3",
   "version": "3.10.10"
  }
 },
 "nbformat": 4,
 "nbformat_minor": 5
}
