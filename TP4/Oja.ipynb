{
 "cells": [
  {
   "cell_type": "code",
   "execution_count": null,
   "id": "d7f52de0",
   "metadata": {},
   "outputs": [],
   "source": [
    "from src.utils import standarize_data\n",
    "from src.parser_files import get_csv_data\n",
    "from src.networks.Oja import Oja\n",
    "from src.plots import *\n",
    "from sklearn.decomposition import PCA\n",
    "\n",
    "LEARNING_RATE = 0.01\n",
    "EPOCHS = 20000\n",
    "\n",
    "data, countries, labels = get_csv_data(\"data/europe.csv\")\n",
    "data_standarized = standarize_data(data)\n",
    "\n",
    "oja = Oja(data_standarized, LEARNING_RATE, EPOCHS)\n",
    "weights = oja.train()\n",
    "\n",
    "print(\"Approximated Eigenvector - First Component\")\n",
    "print(weights)\n",
    "print(\"Approximated PCA 1\")\n",
    "pca_aproximated = np.matmul(data_standarized, weights)\n",
    "print(pca_aproximated)\n",
    "\n",
    "pca = PCA()\n",
    "principal_components = pca.fit_transform(data_standarized)\n",
    "\n",
    "print(\"Eigenvector - First Component\")\n",
    "print(pca.components_.T[:, 0])\n",
    "print(\"PCA 1\")\n",
    "print(principal_components[:, 0])\n",
    "\n",
    "error = 0\n",
    "for i in range(len(weights)):\n",
    "    error = np.abs(weights[i] - principal_components[0][i])\n",
    "print(\"Error entre Oja y Sklearn\")\n",
    "print(error)\n",
    "\n",
    "plot_pca(weights, labels, \"Loadings PCA1 con Oja\")\n",
    "plot_pca(pca.components_[0], labels, \"Loadings PCA1 con Sklearn\")\n",
    "plot_pca(pca_aproximated, countries, \"PCA1 por pais con Oja\")\n",
    "plot_pca(principal_components[:, 0], countries, \"PCA1 por pais con Sklearn\")\n"
   ]
  }
 ],
 "metadata": {
  "kernelspec": {
   "display_name": "Python 3 (ipykernel)",
   "language": "python",
   "name": "python3"
  },
  "language_info": {
   "codemirror_mode": {
    "name": "ipython",
    "version": 3
   },
   "file_extension": ".py",
   "mimetype": "text/x-python",
   "name": "python",
   "nbconvert_exporter": "python",
   "pygments_lexer": "ipython3",
   "version": "3.10.10"
  }
 },
 "nbformat": 4,
 "nbformat_minor": 5
}
