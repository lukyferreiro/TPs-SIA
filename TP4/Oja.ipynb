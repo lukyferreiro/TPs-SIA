{
 "cells": [
  {
   "cell_type": "code",
   "execution_count": null,
   "id": "d7f52de0",
   "metadata": {},
   "outputs": [],
   "source": [
    "from src.utils import standarize_data\n",
    "from src.parser_files import get_csv_data\n",
    "from src.networks.Oja import Oja\n",
    "from src.plots import *\n",
    "from sklearn.decomposition import PCA\n",
    "import pandas as pd\n",
    "\n",
    "LEARNING_RATE = 0.001\n",
    "EPOCHS = 100000\n",
    "\n",
    "data, countries, labels = get_csv_data(\"data/europe.csv\")\n",
    "data_standarized = standarize_data(data)\n",
    "\n",
    "oja = Oja(data_standarized, LEARNING_RATE, EPOCHS)\n",
    "weights = oja.train()\n",
    "\n",
    "print(\"Approximated Eigenvector - First Component\")\n",
    "print(weights)\n",
    "print(\"Approximated PCA 1\")\n",
    "pca_aproximated = np.matmul(data_standarized, weights)\n",
    "print(pca_aproximated)\n",
    "\n",
    "pca = PCA()\n",
    "principal_components = pca.fit_transform(data_standarized)\n",
    "loadings = pca.components_.T * np.sqrt(pca.explained_variance_)\n",
    "\n",
    "\n",
    "print(\"Eigenvector - First Component\")\n",
    "print(pca.components_.T[:, 0])\n",
    "print(\"PCA 1\")\n",
    "print(principal_components[:, 0])\n",
    "\n",
    "plot_pca(weights, labels, \"Loadings PCA1 con Oja\")\n",
    "plot_pca(pca.components_[0], labels, \"Loadings PCA1 con Sklearn\")\n",
    "plot_pca(pca_aproximated, countries, \"PCA1 por pais con Oja\")\n",
    "plot_pca(principal_components[:, 0], countries, \"PCA1 por pais con Sklearn\")"
   ]
  },
  {
   "cell_type": "code",
   "execution_count": null,
   "id": "99f23797",
   "metadata": {},
   "outputs": [],
   "source": [
    "data = {'OJA': np.round(list(weights),4), 'SKLEARN': np.round(list(pca.components_.T[:, 0]),4)}\n",
    "df = pd.DataFrame(data, index=labels).transpose().applymap(lambda x: f'{x:.4f}')\n",
    "df.head().style"
   ]
  },
  {
   "cell_type": "code",
   "execution_count": null,
   "metadata": {},
   "outputs": [],
   "source": [
    "data = {'OJA': np.round(list(pca_aproximated),4), 'SKLEARN': np.round(list(principal_components[:, 0]),4)}\n",
    "df2 = pd.DataFrame(data, index=countries).transpose().applymap(lambda x: f'{x:.4f}')\n",
    "df2.head().style"
   ]
  },
  {
   "cell_type": "code",
   "execution_count": null,
   "id": "1e9ea09b",
   "metadata": {},
   "outputs": [],
   "source": [
    "plot_variance(pca)\n",
    "plot_biplot(pca, principal_components, loadings, countries, labels)"
   ]
  }
 ],
 "metadata": {
  "kernelspec": {
   "display_name": "Python 3 (ipykernel)",
   "language": "python",
   "name": "python3"
  },
  "language_info": {
   "codemirror_mode": {
    "name": "ipython",
    "version": 3
   },
   "file_extension": ".py",
   "mimetype": "text/x-python",
   "name": "python",
   "nbconvert_exporter": "python",
   "pygments_lexer": "ipython3",
   "version": "3.10.10"
  }
 },
 "nbformat": 4,
 "nbformat_minor": 5
}
