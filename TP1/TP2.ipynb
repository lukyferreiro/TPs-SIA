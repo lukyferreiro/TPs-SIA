{
 "cells": [
  {
   "cell_type": "code",
   "execution_count": null,
   "id": "97ef2579",
   "metadata": {},
   "outputs": [],
   "source": [
    "import arcade\n",
    "from src.utils import COLORS\n",
    "from src.game_state.board import Board\n",
    "from src.search_methods.node import Node\n",
    "from src.search_methods.algorithms import chooseAlgorithm\n",
    "\n",
    "algorithms = ['BFS', 'DFS', 'GREEDY', 'A*']\n",
    "heuristics = ['Remaining colors', 'Most neighbors', 'Bronson distance']\n",
    "\n",
    "size = 5\n",
    "rootNode = None\n",
    "visited = set()\n",
    "solution = []\n",
    "time = 0\n",
    "boards = []\n",
    "for i in range(100)\n",
    "    board = Board(size, COLORS)\n",
    "\tboards.append(board)\n",
    "    \n",
    "    \n",
    "for algorithm in algorithms:\n",
    "    average_time = []\n",
    "    average_steps = []\n",
    "    average_visited = []\n",
    "    average_frontier = []\n",
    "    \n",
    "    for board in boards:\n",
    "        rootNode = Node(board, None)\n",
    "    \n",
    "        if algorithm == 'BFS' or algorithm == 'DFS':\n",
    "            solution, visited, time = chooseAlgorithm(\n",
    "             algorithm, '', solution, visited, rootNode, time)\n",
    "        else:\n",
    "            for heuristic in heuristics:\n",
    "                solution, visited, time = chooseAlgorithm(\n",
    "                    algorithm, heuristic, solution, visited, rootNode, time)\n",
    "        \n",
    "        #calcular promedios y graficar\n",
    "        average_time.append(time)\n",
    "        average_steps.append(len(solution))\n",
    "        average_visited.append(len(visited))\n",
    "        average_frontier.append(get_frontier_nodes(visited))\n",
    "                \n",
    "        \n",
    "        "
   ]
  }
 ],
 "metadata": {
  "kernelspec": {
   "display_name": "Python 3 (ipykernel)",
   "language": "python",
   "name": "python3"
  },
  "language_info": {
   "codemirror_mode": {
    "name": "ipython",
    "version": 3
   },
   "file_extension": ".py",
   "mimetype": "text/x-python",
   "name": "python",
   "nbconvert_exporter": "python",
   "pygments_lexer": "ipython3",
   "version": "3.10.10"
  }
 },
 "nbformat": 4,
 "nbformat_minor": 5
}
