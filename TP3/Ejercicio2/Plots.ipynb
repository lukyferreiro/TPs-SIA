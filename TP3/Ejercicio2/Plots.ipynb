{
 "cells": [
  {
   "cell_type": "code",
   "execution_count": null,
   "id": "cfc5fc38",
   "metadata": {
    "scrolled": false
   },
   "outputs": [],
   "source": [
    "import numpy as np\n",
    "import matplotlib.pyplot as plt\n",
    "from src.utils import get_data\n",
    "from src.perceptron import Perceptron\n",
    "import math\n",
    "\n",
    "PERCEPTRON_TYPE = [\"LINEAR\", \"NON_LINEAR_TANH\", \"NON_LINEAR_LOG\"]\n",
    "TRAINING_TYPE = [\"PERCENTAGE\", \"K-FOLD\"]\n",
    "LR = 0.01\n",
    "EPOCHS = 10000\n",
    "BETA = 1\n",
    "BETA2 = 0.2\n",
    "MIN_ERROR = 0.1\n",
    "TRAINING_PERCENTAGE = 0.8\n",
    "K_FOLD = 4\n",
    "\n",
    "\n",
    "#TODO estaria bueno hacer como hicimos en el TP2 que esten todos los graficos \"de un mismo tipo\" en el mismo grafico\n",
    "#Por ejemplo, para en el mismo grafico las distintas lineas con learning rates diferentes\n",
    "#Osea, unificar los graficos\n",
    "\n",
    "input_data, expected_data = get_data(1)\n",
    "\n",
    "for perceptron_type in PERCEPTRON_TYPE:\n",
    "    for lr in [LR*(10**(-i)) for i in range(0, 3)]:\n",
    "        if(perceptron_type == \"LINEAR\"):\n",
    "            perceptron = Perceptron(input_data, expected_data, perceptron_type, lr, EPOCHS, BETA, MIN_ERROR, \"PERCENTAGE\", TRAINING_PERCENTAGE, K_FOLD)\n",
    "            weights, mse_errors, test_mse, total_epochs = perceptron.train()\n",
    "            print(perceptron)\n",
    "            perceptron.plot(mse_errors, total_epochs)\n",
    "        else:\n",
    "            for beta in [BETA2 * i for i in range(1, 8)]:\n",
    "                perceptron = Perceptron(input_data, expected_data, perceptron_type, lr, EPOCHS, beta, MIN_ERROR, \"PERCENTAGE\", TRAINING_PERCENTAGE, K_FOLD)\n",
    "                weights, mse_errors, test_mse, total_epochs = perceptron.train()\n",
    "                print(perceptron)\n",
    "                perceptron.plot(mse_errors, total_epochs)"
   ]
  },
  {
   "cell_type": "code",
   "execution_count": null,
   "id": "2dc7b733",
   "metadata": {},
   "outputs": [],
   "source": []
  }
 ],
 "metadata": {
  "kernelspec": {
   "display_name": "Python 3 (ipykernel)",
   "language": "python",
   "name": "python3"
  },
  "language_info": {
   "codemirror_mode": {
    "name": "ipython",
    "version": 3
   },
   "file_extension": ".py",
   "mimetype": "text/x-python",
   "name": "python",
   "nbconvert_exporter": "python",
   "pygments_lexer": "ipython3",
   "version": "3.10.10"
  }
 },
 "nbformat": 4,
 "nbformat_minor": 5
}
